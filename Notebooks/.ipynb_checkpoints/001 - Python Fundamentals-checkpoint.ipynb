{
 "cells": [
  {
   "cell_type": "markdown",
   "metadata": {
    "deletable": true,
    "editable": true,
    "nbpresent": {
     "id": "af780ada-6af7-4a20-8eae-6ad265963550"
    },
    "slideshow": {
     "slide_type": "slide"
    }
   },
   "source": [
    "# 001 - Python Fundamentals\n",
    "## Introduction to Python\n",
    "\n",
    "Summary/Descriptive stats\n",
    "In this session we look to explore our data using summary statistics.\n",
    "\n",
    "#### Terry McCann | @SQLShark | tpm@adatis.co.uk"
   ]
  },
  {
   "cell_type": "markdown",
   "metadata": {
    "deletable": true,
    "editable": true,
    "nbpresent": {
     "id": "d931d971-5ec6-4632-8349-c369469a74d1"
    },
    "slideshow": {
     "slide_type": "slide"
    }
   },
   "source": [
    "### What tools am I using? \n",
    "\n",
    "|Tool|Detail|\n",
    "|----|------|\n",
    "|Jupyter Notebooks | Interactive code and markdown -IPython. Works with R too. http://jupyter.org/|\n",
    "|Anaconda distribution | Set of tools for data science with Python. https://www.continuum.io/ |\n",
    "|Python | Programming language. Has many uses, one being data science. https://www.python.org/ |\n",
    "|Numpy| NumPy is the fundamental package for scientific computing with Python. http://www.numpy.org/ |\n",
    "|Pandas| pandas is an open source, BSD-licensed library providing high-performance, easy-to-use data structures and data analysis tools for the Python. http://pandas.pydata.org/ |\n",
    "|Matplotlib| matplotlib is a python 2D plotting library which produces publication quality figures in a variety of hardcopy formats and interactive environments across platforms. http://matplotlib.org/ |\n",
    "|others (seaborn,scipy)||"
   ]
  },
  {
   "cell_type": "markdown",
   "metadata": {
    "deletable": true,
    "editable": true,
    "nbpresent": {
     "id": "e838e01f-fa47-49f7-acd7-cd45db6ec59a"
    },
    "slideshow": {
     "slide_type": "slide"
    }
   },
   "source": [
    "### What are summary statistics? \n",
    "\"The information that gives a quick and simple description of the data. Can include mean, median, mode, minimum value, maximum value, range, standard deviation, etc.\"\n",
    "\n",
    "Commonly known as descriptive statistics\n",
    "\n",
    "#### What will we look at? \n",
    "- The basics of summary statistics\n",
    "    - Measures of central tendency\n",
    "- Measures of spread\n",
    "    - Standard deviation\n",
    "- Visualisation\n",
    "    - Histograms\n",
    "    - Box plots\n",
    "\n",
    "#### Let's get started with some sample data:"
   ]
  },
  {
   "cell_type": "markdown",
   "metadata": {
    "deletable": true,
    "editable": true,
    "nbpresent": {
     "id": "1c680db1-07ab-4f63-a80b-e0604ea08e3e"
    },
    "slideshow": {
     "slide_type": "subslide"
    }
   },
   "source": [
    "#### Import our required libaries"
   ]
  },
  {
   "cell_type": "code",
   "execution_count": 1,
   "metadata": {
    "collapsed": false,
    "deletable": true,
    "editable": true,
    "nbpresent": {
     "id": "60c54fbd-cd22-48a8-b7d2-0d1b4c4f3aa0"
    },
    "slideshow": {
     "slide_type": "subslide"
    }
   },
   "outputs": [],
   "source": [
    "import numpy as np\n",
    "import pandas as pd\n",
    "%matplotlib inline\n",
    "import matplotlib.pyplot as plt\n",
    "import seaborn as sns\n",
    "import scipy.stats as sts"
   ]
  },
  {
   "cell_type": "markdown",
   "metadata": {},
   "source": [
    "## Variables "
   ]
  },
  {
   "cell_type": "markdown",
   "metadata": {},
   "source": [
    "Python variable are defined as so:"
   ]
  },
  {
   "cell_type": "code",
   "execution_count": 1,
   "metadata": {
    "collapsed": true
   },
   "outputs": [],
   "source": [
    "a = 10"
   ]
  },
  {
   "cell_type": "code",
   "execution_count": 2,
   "metadata": {
    "collapsed": false
   },
   "outputs": [
    {
     "name": "stdout",
     "output_type": "stream",
     "text": [
      "10\n"
     ]
    }
   ],
   "source": [
    "print(a)"
   ]
  },
  {
   "cell_type": "code",
   "execution_count": 7,
   "metadata": {
    "collapsed": true
   },
   "outputs": [],
   "source": [
    "b = 45"
   ]
  },
  {
   "cell_type": "code",
   "execution_count": 8,
   "metadata": {
    "collapsed": false
   },
   "outputs": [
    {
     "name": "stdout",
     "output_type": "stream",
     "text": [
      "45\n"
     ]
    }
   ],
   "source": [
    "print(b)"
   ]
  },
  {
   "cell_type": "code",
   "execution_count": 10,
   "metadata": {
    "collapsed": false
   },
   "outputs": [
    {
     "name": "stdout",
     "output_type": "stream",
     "text": [
      "55\n"
     ]
    }
   ],
   "source": [
    "c = a + b\n",
    "print(c)"
   ]
  },
  {
   "cell_type": "markdown",
   "metadata": {
    "deletable": true,
    "editable": true,
    "nbpresent": {
     "id": "3f1d21e0-ee9c-474d-8e82-3380e4da073c"
    },
    "slideshow": {
     "slide_type": "subslide"
    }
   },
   "source": [
    "### Measures of central tendency\n",
    "\n",
    "##### Load a List"
   ]
  },
  {
   "cell_type": "code",
   "execution_count": 11,
   "metadata": {
    "collapsed": false,
    "deletable": true,
    "editable": true,
    "nbpresent": {
     "id": "db34d1fa-1650-4655-91f5-ea11f7840669"
    },
    "slideshow": {
     "slide_type": "subslide"
    }
   },
   "outputs": [],
   "source": [
    "x = [10,10,8,6,2,6,2,3,6,8,4,2,2,2,2,4,2,2,2,6,50,8,10,10,8]"
   ]
  },
  {
   "cell_type": "markdown",
   "metadata": {
    "deletable": true,
    "editable": true,
    "nbpresent": {
     "id": "2c94bddc-678c-48a7-9904-358f52bba115"
    }
   },
   "source": [
    "##### Mean\n",
    "Add all numbers together, divide by numbers: \n",
    "** Sensitive to outliers **\n",
    "\n",
    "$ \\frac{\\sum x}{n}$"
   ]
  },
  {
   "cell_type": "code",
   "execution_count": 3,
   "metadata": {
    "collapsed": false,
    "deletable": true,
    "editable": true,
    "nbpresent": {
     "id": "ea5bf3d3-ac7d-43ce-a693-230ae714f4a4"
    }
   },
   "outputs": [
    {
     "data": {
      "text/plain": [
       "175"
      ]
     },
     "execution_count": 3,
     "metadata": {},
     "output_type": "execute_result"
    }
   ],
   "source": [
    "np.sum(x)"
   ]
  },
  {
   "cell_type": "code",
   "execution_count": 4,
   "metadata": {
    "collapsed": false,
    "deletable": true,
    "editable": true,
    "nbpresent": {
     "id": "d34074dc-413e-4337-89a8-0314d246f018"
    }
   },
   "outputs": [
    {
     "data": {
      "text/plain": [
       "25"
      ]
     },
     "execution_count": 4,
     "metadata": {},
     "output_type": "execute_result"
    }
   ],
   "source": [
    "len(x)"
   ]
  },
  {
   "cell_type": "code",
   "execution_count": 5,
   "metadata": {
    "collapsed": false,
    "deletable": true,
    "editable": true,
    "nbpresent": {
     "id": "226b3690-ee7c-44e3-9821-8b252456c6b8"
    }
   },
   "outputs": [
    {
     "data": {
      "text/plain": [
       "7.0"
      ]
     },
     "execution_count": 5,
     "metadata": {},
     "output_type": "execute_result"
    }
   ],
   "source": [
    "np.mean(x)"
   ]
  },
  {
   "cell_type": "markdown",
   "metadata": {
    "deletable": true,
    "editable": true,
    "nbpresent": {
     "id": "a5b3d230-6683-4462-b1e2-5aed6287842a"
    }
   },
   "source": [
    "##### Median \n",
    "The middle number when sorted for ODD numbers. For Even divide the 2 middles. **Less sensitive to outliers**"
   ]
  },
  {
   "cell_type": "code",
   "execution_count": 6,
   "metadata": {
    "collapsed": false,
    "deletable": true,
    "editable": true,
    "nbpresent": {
     "id": "4e358929-d45a-443f-b7ab-9d0139f2b4b7"
    }
   },
   "outputs": [
    {
     "data": {
      "text/plain": [
       "array([ 2,  2,  2,  2,  2,  2,  2,  2,  2,  3,  4,  4,  6,  6,  6,  6,  8,\n",
       "        8,  8,  8, 10, 10, 10, 10, 50])"
      ]
     },
     "execution_count": 6,
     "metadata": {},
     "output_type": "execute_result"
    }
   ],
   "source": [
    "np.sort(x)"
   ]
  },
  {
   "cell_type": "code",
   "execution_count": 7,
   "metadata": {
    "collapsed": false,
    "deletable": true,
    "editable": true,
    "nbpresent": {
     "id": "6b573c95-7632-4c45-ac45-f0e4fb44a71a"
    }
   },
   "outputs": [
    {
     "data": {
      "text/plain": [
       "6.0"
      ]
     },
     "execution_count": 7,
     "metadata": {},
     "output_type": "execute_result"
    }
   ],
   "source": [
    "np.median(x)"
   ]
  },
  {
   "cell_type": "markdown",
   "metadata": {
    "deletable": true,
    "editable": true,
    "nbpresent": {
     "id": "65d70b5b-7897-40b5-95b0-b28f29723c20"
    }
   },
   "source": [
    "##### Mode \n",
    "The most frequent appearing number"
   ]
  },
  {
   "cell_type": "code",
   "execution_count": 8,
   "metadata": {
    "collapsed": false,
    "deletable": true,
    "editable": true,
    "nbpresent": {
     "id": "ef2f75a3-5698-4fd8-b82b-5a71fd3395bd"
    }
   },
   "outputs": [
    {
     "data": {
      "text/plain": [
       "ModeResult(mode=array([2]), count=array([9]))"
      ]
     },
     "execution_count": 8,
     "metadata": {},
     "output_type": "execute_result"
    }
   ],
   "source": [
    "sts.mode(x, axis=None)"
   ]
  },
  {
   "cell_type": "markdown",
   "metadata": {
    "deletable": true,
    "editable": true,
    "nbpresent": {
     "id": "2564ff24-bff6-4ac0-875e-ea57c2cbd885"
    }
   },
   "source": [
    "#### Standard deviation\n",
    "What is standard deviation? It is a measure of variance. \n",
    "\n",
    "Standard Deviation is just the square root of Variance. Variance is the distance from the mean squared, divied by the length.\n",
    "\n",
    "Numpy has a function for standard deviation:"
   ]
  },
  {
   "cell_type": "code",
   "execution_count": 9,
   "metadata": {
    "collapsed": false,
    "deletable": true,
    "editable": true
   },
   "outputs": [
    {
     "data": {
      "text/plain": [
       "9.2779308037945611"
      ]
     },
     "execution_count": 9,
     "metadata": {},
     "output_type": "execute_result"
    }
   ],
   "source": [
    "np.std(x)"
   ]
  },
  {
   "cell_type": "markdown",
   "metadata": {
    "deletable": true,
    "editable": true
   },
   "source": [
    "To prove it this can be calculated manually"
   ]
  },
  {
   "cell_type": "code",
   "execution_count": 10,
   "metadata": {
    "collapsed": false,
    "deletable": true,
    "editable": true
   },
   "outputs": [
    {
     "data": {
      "text/plain": [
       "7.0"
      ]
     },
     "execution_count": 10,
     "metadata": {},
     "output_type": "execute_result"
    }
   ],
   "source": [
    "np.mean(x)"
   ]
  },
  {
   "cell_type": "markdown",
   "metadata": {
    "deletable": true,
    "editable": true
   },
   "source": [
    "Variance from the mean squared."
   ]
  },
  {
   "cell_type": "code",
   "execution_count": 11,
   "metadata": {
    "collapsed": false,
    "deletable": true,
    "editable": true
   },
   "outputs": [
    {
     "data": {
      "text/plain": [
       "array([  9.00000000e+00,   9.00000000e+00,   1.00000000e+00,\n",
       "         1.00000000e+00,   2.50000000e+01,   1.00000000e+00,\n",
       "         2.50000000e+01,   1.60000000e+01,   1.00000000e+00,\n",
       "         1.00000000e+00,   9.00000000e+00,   2.50000000e+01,\n",
       "         2.50000000e+01,   2.50000000e+01,   2.50000000e+01,\n",
       "         9.00000000e+00,   2.50000000e+01,   2.50000000e+01,\n",
       "         2.50000000e+01,   1.00000000e+00,   1.84900000e+03,\n",
       "         1.00000000e+00,   9.00000000e+00,   9.00000000e+00,\n",
       "         1.00000000e+00])"
      ]
     },
     "execution_count": 11,
     "metadata": {},
     "output_type": "execute_result"
    }
   ],
   "source": [
    "(x - np.mean(x))**2"
   ]
  },
  {
   "cell_type": "markdown",
   "metadata": {
    "deletable": true,
    "editable": true
   },
   "source": [
    "Sum of variance squared divided by length"
   ]
  },
  {
   "cell_type": "code",
   "execution_count": 12,
   "metadata": {
    "collapsed": false,
    "deletable": true,
    "editable": true
   },
   "outputs": [
    {
     "data": {
      "text/plain": [
       "86.079999999999998"
      ]
     },
     "execution_count": 12,
     "metadata": {},
     "output_type": "execute_result"
    }
   ],
   "source": [
    "sum((x - np.mean(x))**2)/len(x)"
   ]
  },
  {
   "cell_type": "markdown",
   "metadata": {
    "deletable": true,
    "editable": true
   },
   "source": [
    "Square root the above"
   ]
  },
  {
   "cell_type": "code",
   "execution_count": 13,
   "metadata": {
    "collapsed": false,
    "deletable": true,
    "editable": true
   },
   "outputs": [
    {
     "data": {
      "text/plain": [
       "9.277930803794561"
      ]
     },
     "execution_count": 13,
     "metadata": {},
     "output_type": "execute_result"
    }
   ],
   "source": [
    "import math\n",
    "\n",
    "math.sqrt(sum((x - np.mean(x))**2)/len(x))"
   ]
  },
  {
   "cell_type": "code",
   "execution_count": 14,
   "metadata": {
    "collapsed": false,
    "deletable": true,
    "editable": true
   },
   "outputs": [
    {
     "data": {
      "text/plain": [
       "9.2779308037945611"
      ]
     },
     "execution_count": 14,
     "metadata": {},
     "output_type": "execute_result"
    }
   ],
   "source": [
    "np.std(x)"
   ]
  },
  {
   "cell_type": "markdown",
   "metadata": {
    "deletable": true,
    "editable": true,
    "nbpresent": {
     "id": "447941da-2712-4bbb-af45-2358b1c07735"
    }
   },
   "source": [
    "#### Detecting outliers\n",
    "What is an outlier? \n",
    "\n",
    "2 standard deviations from the mean (old method). \n",
    "IQR? \n",
    "\n",
    "There are others. Good discussion here: http://stats.stackexchange.com/questions/175999/determine-outliers-using-iqr-or-standard-deviation"
   ]
  },
  {
   "cell_type": "code",
   "execution_count": 15,
   "metadata": {
    "collapsed": false,
    "deletable": true,
    "editable": true
   },
   "outputs": [
    {
     "data": {
      "text/plain": [
       "25.555861607589122"
      ]
     },
     "execution_count": 15,
     "metadata": {},
     "output_type": "execute_result"
    }
   ],
   "source": [
    "np.mean(x) + (np.std(x)*2)"
   ]
  },
  {
   "cell_type": "markdown",
   "metadata": {
    "deletable": true,
    "editable": true
   },
   "source": [
    "Any value higher than 25.5 is an outlier. "
   ]
  },
  {
   "cell_type": "markdown",
   "metadata": {
    "deletable": true,
    "editable": true,
    "nbpresent": {
     "id": "4656626b-f03c-4fd2-8b2e-d90bb1192064"
    }
   },
   "source": [
    "### How can we begin to look at each of these in more depth? \n",
    "While this is good. The process is slow. To speed up our understanding and profiling we can use some visuals. "
   ]
  },
  {
   "cell_type": "markdown",
   "metadata": {
    "deletable": true,
    "editable": true,
    "nbpresent": {
     "id": "dab13232-cb10-4109-a6c2-636746a916c1"
    }
   },
   "source": [
    "#### Load Titanic dataset\n",
    "This will read the titanic dataset which is avaiabile from the Kaggle website.\n",
    "The data will be read using Panda read_csv function. \n",
    "\n",
    "https://www.kaggle.com/c/titanic/data?train.csv\n",
    "\n",
    "This will create a pandas dataframe."
   ]
  },
  {
   "cell_type": "code",
   "execution_count": 16,
   "metadata": {
    "collapsed": false,
    "deletable": true,
    "editable": true,
    "nbpresent": {
     "id": "0defb792-b79c-4737-ad08-bcc396d6e843"
    }
   },
   "outputs": [],
   "source": [
    "titanic = pd.read_csv('../input/train.csv')"
   ]
  },
  {
   "cell_type": "markdown",
   "metadata": {
    "deletable": true,
    "editable": true
   },
   "source": [
    "Let's take a quick look at the top few rows. "
   ]
  },
  {
   "cell_type": "code",
   "execution_count": 17,
   "metadata": {
    "collapsed": false,
    "deletable": true,
    "editable": true,
    "nbpresent": {
     "id": "6c9bd736-e975-4a71-8cb1-b56cb801c2e6"
    }
   },
   "outputs": [
    {
     "data": {
      "text/html": [
       "<div>\n",
       "<table border=\"1\" class=\"dataframe\">\n",
       "  <thead>\n",
       "    <tr style=\"text-align: right;\">\n",
       "      <th></th>\n",
       "      <th>PassengerId</th>\n",
       "      <th>Survived</th>\n",
       "      <th>Pclass</th>\n",
       "      <th>Name</th>\n",
       "      <th>Sex</th>\n",
       "      <th>Age</th>\n",
       "      <th>SibSp</th>\n",
       "      <th>Parch</th>\n",
       "      <th>Ticket</th>\n",
       "      <th>Fare</th>\n",
       "      <th>Cabin</th>\n",
       "      <th>Embarked</th>\n",
       "    </tr>\n",
       "  </thead>\n",
       "  <tbody>\n",
       "    <tr>\n",
       "      <th>0</th>\n",
       "      <td>1</td>\n",
       "      <td>0</td>\n",
       "      <td>3</td>\n",
       "      <td>Braund, Mr. Owen Harris</td>\n",
       "      <td>male</td>\n",
       "      <td>22.0</td>\n",
       "      <td>1</td>\n",
       "      <td>0</td>\n",
       "      <td>A/5 21171</td>\n",
       "      <td>7.2500</td>\n",
       "      <td>NaN</td>\n",
       "      <td>S</td>\n",
       "    </tr>\n",
       "    <tr>\n",
       "      <th>1</th>\n",
       "      <td>2</td>\n",
       "      <td>1</td>\n",
       "      <td>1</td>\n",
       "      <td>Cumings, Mrs. John Bradley (Florence Briggs Th...</td>\n",
       "      <td>female</td>\n",
       "      <td>38.0</td>\n",
       "      <td>1</td>\n",
       "      <td>0</td>\n",
       "      <td>PC 17599</td>\n",
       "      <td>71.2833</td>\n",
       "      <td>C85</td>\n",
       "      <td>C</td>\n",
       "    </tr>\n",
       "    <tr>\n",
       "      <th>2</th>\n",
       "      <td>3</td>\n",
       "      <td>1</td>\n",
       "      <td>3</td>\n",
       "      <td>Heikkinen, Miss. Laina</td>\n",
       "      <td>female</td>\n",
       "      <td>26.0</td>\n",
       "      <td>0</td>\n",
       "      <td>0</td>\n",
       "      <td>STON/O2. 3101282</td>\n",
       "      <td>7.9250</td>\n",
       "      <td>NaN</td>\n",
       "      <td>S</td>\n",
       "    </tr>\n",
       "    <tr>\n",
       "      <th>3</th>\n",
       "      <td>4</td>\n",
       "      <td>1</td>\n",
       "      <td>1</td>\n",
       "      <td>Futrelle, Mrs. Jacques Heath (Lily May Peel)</td>\n",
       "      <td>female</td>\n",
       "      <td>35.0</td>\n",
       "      <td>1</td>\n",
       "      <td>0</td>\n",
       "      <td>113803</td>\n",
       "      <td>53.1000</td>\n",
       "      <td>C123</td>\n",
       "      <td>S</td>\n",
       "    </tr>\n",
       "    <tr>\n",
       "      <th>4</th>\n",
       "      <td>5</td>\n",
       "      <td>0</td>\n",
       "      <td>3</td>\n",
       "      <td>Allen, Mr. William Henry</td>\n",
       "      <td>male</td>\n",
       "      <td>35.0</td>\n",
       "      <td>0</td>\n",
       "      <td>0</td>\n",
       "      <td>373450</td>\n",
       "      <td>8.0500</td>\n",
       "      <td>NaN</td>\n",
       "      <td>S</td>\n",
       "    </tr>\n",
       "  </tbody>\n",
       "</table>\n",
       "</div>"
      ],
      "text/plain": [
       "   PassengerId  Survived  Pclass  \\\n",
       "0            1         0       3   \n",
       "1            2         1       1   \n",
       "2            3         1       3   \n",
       "3            4         1       1   \n",
       "4            5         0       3   \n",
       "\n",
       "                                                Name     Sex   Age  SibSp  \\\n",
       "0                            Braund, Mr. Owen Harris    male  22.0      1   \n",
       "1  Cumings, Mrs. John Bradley (Florence Briggs Th...  female  38.0      1   \n",
       "2                             Heikkinen, Miss. Laina  female  26.0      0   \n",
       "3       Futrelle, Mrs. Jacques Heath (Lily May Peel)  female  35.0      1   \n",
       "4                           Allen, Mr. William Henry    male  35.0      0   \n",
       "\n",
       "   Parch            Ticket     Fare Cabin Embarked  \n",
       "0      0         A/5 21171   7.2500   NaN        S  \n",
       "1      0          PC 17599  71.2833   C85        C  \n",
       "2      0  STON/O2. 3101282   7.9250   NaN        S  \n",
       "3      0            113803  53.1000  C123        S  \n",
       "4      0            373450   8.0500   NaN        S  "
      ]
     },
     "execution_count": 17,
     "metadata": {},
     "output_type": "execute_result"
    }
   ],
   "source": [
    "titanic.head()"
   ]
  },
  {
   "cell_type": "code",
   "execution_count": 18,
   "metadata": {
    "collapsed": false,
    "deletable": true,
    "editable": true,
    "nbpresent": {
     "id": "bd09c450-f13b-4011-afc2-d37326b7c3c1"
    }
   },
   "outputs": [
    {
     "data": {
      "text/plain": [
       "29.69911764705882"
      ]
     },
     "execution_count": 18,
     "metadata": {},
     "output_type": "execute_result"
    }
   ],
   "source": [
    "np.mean(titanic.Age.dropna())"
   ]
  },
  {
   "cell_type": "code",
   "execution_count": 19,
   "metadata": {
    "collapsed": false,
    "deletable": true,
    "editable": true,
    "nbpresent": {
     "id": "b4c7e00b-94ea-44dc-8358-69910d1d9685"
    }
   },
   "outputs": [
    {
     "data": {
      "text/plain": [
       "28.0"
      ]
     },
     "execution_count": 19,
     "metadata": {},
     "output_type": "execute_result"
    }
   ],
   "source": [
    "np.median(titanic.Age.dropna())"
   ]
  },
  {
   "cell_type": "code",
   "execution_count": 20,
   "metadata": {
    "collapsed": false,
    "deletable": true,
    "editable": true,
    "nbpresent": {
     "id": "057453c7-d63e-4112-a31d-745d24e71763"
    }
   },
   "outputs": [
    {
     "data": {
      "text/plain": [
       "80.0"
      ]
     },
     "execution_count": 20,
     "metadata": {},
     "output_type": "execute_result"
    }
   ],
   "source": [
    "np.max(titanic.Age.dropna())"
   ]
  },
  {
   "cell_type": "code",
   "execution_count": 21,
   "metadata": {
    "collapsed": false,
    "deletable": true,
    "editable": true,
    "nbpresent": {
     "id": "faf67923-67f1-4267-95fb-c7636d0b4ac6"
    }
   },
   "outputs": [
    {
     "data": {
      "text/plain": [
       "0.41999999999999998"
      ]
     },
     "execution_count": 21,
     "metadata": {},
     "output_type": "execute_result"
    }
   ],
   "source": [
    "np.min(titanic.Age.dropna())"
   ]
  },
  {
   "cell_type": "markdown",
   "metadata": {
    "deletable": true,
    "editable": true
   },
   "source": [
    "Doing this manually is one way. Or you can use describe()\n",
    "http://chrisalbon.com/python/pandas_dataframe_descriptive_stats.html"
   ]
  },
  {
   "cell_type": "code",
   "execution_count": 22,
   "metadata": {
    "collapsed": false,
    "deletable": true,
    "editable": true
   },
   "outputs": [
    {
     "name": "stderr",
     "output_type": "stream",
     "text": [
      "C:\\Users\\tpm\\AppData\\Local\\Continuum\\Anaconda3\\lib\\site-packages\\numpy\\lib\\function_base.py:3834: RuntimeWarning: Invalid value encountered in percentile\n",
      "  RuntimeWarning)\n"
     ]
    },
    {
     "data": {
      "text/html": [
       "<div>\n",
       "<table border=\"1\" class=\"dataframe\">\n",
       "  <thead>\n",
       "    <tr style=\"text-align: right;\">\n",
       "      <th></th>\n",
       "      <th>PassengerId</th>\n",
       "      <th>Survived</th>\n",
       "      <th>Pclass</th>\n",
       "      <th>Age</th>\n",
       "      <th>SibSp</th>\n",
       "      <th>Parch</th>\n",
       "      <th>Fare</th>\n",
       "    </tr>\n",
       "  </thead>\n",
       "  <tbody>\n",
       "    <tr>\n",
       "      <th>count</th>\n",
       "      <td>891.000000</td>\n",
       "      <td>891.000000</td>\n",
       "      <td>891.000000</td>\n",
       "      <td>714.000000</td>\n",
       "      <td>891.000000</td>\n",
       "      <td>891.000000</td>\n",
       "      <td>891.000000</td>\n",
       "    </tr>\n",
       "    <tr>\n",
       "      <th>mean</th>\n",
       "      <td>446.000000</td>\n",
       "      <td>0.383838</td>\n",
       "      <td>2.308642</td>\n",
       "      <td>29.699118</td>\n",
       "      <td>0.523008</td>\n",
       "      <td>0.381594</td>\n",
       "      <td>32.204208</td>\n",
       "    </tr>\n",
       "    <tr>\n",
       "      <th>std</th>\n",
       "      <td>257.353842</td>\n",
       "      <td>0.486592</td>\n",
       "      <td>0.836071</td>\n",
       "      <td>14.526497</td>\n",
       "      <td>1.102743</td>\n",
       "      <td>0.806057</td>\n",
       "      <td>49.693429</td>\n",
       "    </tr>\n",
       "    <tr>\n",
       "      <th>min</th>\n",
       "      <td>1.000000</td>\n",
       "      <td>0.000000</td>\n",
       "      <td>1.000000</td>\n",
       "      <td>0.420000</td>\n",
       "      <td>0.000000</td>\n",
       "      <td>0.000000</td>\n",
       "      <td>0.000000</td>\n",
       "    </tr>\n",
       "    <tr>\n",
       "      <th>25%</th>\n",
       "      <td>223.500000</td>\n",
       "      <td>0.000000</td>\n",
       "      <td>2.000000</td>\n",
       "      <td>NaN</td>\n",
       "      <td>0.000000</td>\n",
       "      <td>0.000000</td>\n",
       "      <td>7.910400</td>\n",
       "    </tr>\n",
       "    <tr>\n",
       "      <th>50%</th>\n",
       "      <td>446.000000</td>\n",
       "      <td>0.000000</td>\n",
       "      <td>3.000000</td>\n",
       "      <td>NaN</td>\n",
       "      <td>0.000000</td>\n",
       "      <td>0.000000</td>\n",
       "      <td>14.454200</td>\n",
       "    </tr>\n",
       "    <tr>\n",
       "      <th>75%</th>\n",
       "      <td>668.500000</td>\n",
       "      <td>1.000000</td>\n",
       "      <td>3.000000</td>\n",
       "      <td>NaN</td>\n",
       "      <td>1.000000</td>\n",
       "      <td>0.000000</td>\n",
       "      <td>31.000000</td>\n",
       "    </tr>\n",
       "    <tr>\n",
       "      <th>max</th>\n",
       "      <td>891.000000</td>\n",
       "      <td>1.000000</td>\n",
       "      <td>3.000000</td>\n",
       "      <td>80.000000</td>\n",
       "      <td>8.000000</td>\n",
       "      <td>6.000000</td>\n",
       "      <td>512.329200</td>\n",
       "    </tr>\n",
       "  </tbody>\n",
       "</table>\n",
       "</div>"
      ],
      "text/plain": [
       "       PassengerId    Survived      Pclass         Age       SibSp  \\\n",
       "count   891.000000  891.000000  891.000000  714.000000  891.000000   \n",
       "mean    446.000000    0.383838    2.308642   29.699118    0.523008   \n",
       "std     257.353842    0.486592    0.836071   14.526497    1.102743   \n",
       "min       1.000000    0.000000    1.000000    0.420000    0.000000   \n",
       "25%     223.500000    0.000000    2.000000         NaN    0.000000   \n",
       "50%     446.000000    0.000000    3.000000         NaN    0.000000   \n",
       "75%     668.500000    1.000000    3.000000         NaN    1.000000   \n",
       "max     891.000000    1.000000    3.000000   80.000000    8.000000   \n",
       "\n",
       "            Parch        Fare  \n",
       "count  891.000000  891.000000  \n",
       "mean     0.381594   32.204208  \n",
       "std      0.806057   49.693429  \n",
       "min      0.000000    0.000000  \n",
       "25%      0.000000    7.910400  \n",
       "50%      0.000000   14.454200  \n",
       "75%      0.000000   31.000000  \n",
       "max      6.000000  512.329200  "
      ]
     },
     "execution_count": 22,
     "metadata": {},
     "output_type": "execute_result"
    }
   ],
   "source": [
    "titanic.describe()"
   ]
  },
  {
   "cell_type": "markdown",
   "metadata": {
    "deletable": true,
    "editable": true
   },
   "source": [
    "### Visualisations\n",
    "#### Histograms and box plots\n",
    "\n",
    "Let's now create a histogram of the titanic customer's age."
   ]
  },
  {
   "cell_type": "code",
   "execution_count": 23,
   "metadata": {
    "collapsed": false,
    "deletable": true,
    "editable": true,
    "nbpresent": {
     "id": "afc0d010-6a6b-4533-afb2-45f1511feb64"
    }
   },
   "outputs": [
    {
     "data": {
      "text/plain": [
       "(array([  54.,   46.,  177.,  169.,  118.,   70.,   45.,   24.,    9.,    2.]),\n",
       " array([  0.42 ,   8.378,  16.336,  24.294,  32.252,  40.21 ,  48.168,\n",
       "         56.126,  64.084,  72.042,  80.   ]),\n",
       " <a list of 10 Patch objects>)"
      ]
     },
     "execution_count": 23,
     "metadata": {},
     "output_type": "execute_result"
    },
    {
     "data": {
      "image/png": "[encoded data removed]",
      "text/plain": [
       "<matplotlib.figure.Figure at 0x1a1d0d5e198>"
      ]
     },
     "metadata": {},
     "output_type": "display_data"
    }
   ],
   "source": [
    "plt.hist(titanic.Age.dropna())"
   ]
  },
  {
   "cell_type": "markdown",
   "metadata": {
    "deletable": true,
    "editable": true
   },
   "source": [
    "We can add additional bins with bins=n to increase and decrease the bin size. "
   ]
  },
  {
   "cell_type": "code",
   "execution_count": 24,
   "metadata": {
    "collapsed": false,
    "deletable": true,
    "editable": true,
    "nbpresent": {
     "id": "bbe31077-139b-4feb-96ce-59481e71e5b2"
    }
   },
   "outputs": [
    {
     "data": {
      "text/plain": [
       "(array([ 30.,  17.,  15.,   9.,  29.,  64.,  67.,  70.,  83.,  62.,  51.,\n",
       "         40.,  35.,  27.,  35.,  23.,  15.,   9.,  11.,  11.,   4.,   2.,\n",
       "          3.,   1.,   1.]),\n",
       " array([  0.42  ,   3.6032,   6.7864,   9.9696,  13.1528,  16.336 ,\n",
       "         19.5192,  22.7024,  25.8856,  29.0688,  32.252 ,  35.4352,\n",
       "         38.6184,  41.8016,  44.9848,  48.168 ,  51.3512,  54.5344,\n",
       "         57.7176,  60.9008,  64.084 ,  67.2672,  70.4504,  73.6336,\n",
       "         76.8168,  80.    ]),\n",
       " <a list of 25 Patch objects>)"
      ]
     },
     "execution_count": 24,
     "metadata": {},
     "output_type": "execute_result"
    },
    {
     "data": {
      "image/png": "[encoded data removed]",
      "text/plain": [
       "<matplotlib.figure.Figure at 0x1a1d13a4e48>"
      ]
     },
     "metadata": {},
     "output_type": "display_data"
    }
   ],
   "source": [
    "plt.hist(titanic.Age.dropna(), bins=25)"
   ]
  },
  {
   "cell_type": "code",
   "execution_count": 25,
   "metadata": {
    "collapsed": false,
    "deletable": true,
    "editable": true
   },
   "outputs": [
    {
     "data": {
      "text/plain": [
       "(array([ 732.,  106.,   31.,    2.,   11.,    6.,    0.,    0.,    0.,    3.]),\n",
       " array([   0.     ,   51.23292,  102.46584,  153.69876,  204.93168,\n",
       "         256.1646 ,  307.39752,  358.63044,  409.86336,  461.09628,\n",
       "         512.3292 ]),\n",
       " <a list of 10 Patch objects>)"
      ]
     },
     "execution_count": 25,
     "metadata": {},
     "output_type": "execute_result"
    },
    {
     "data": {
      "image/png": "[encoded data removed]",
      "text/plain": [
       "<matplotlib.figure.Figure at 0x1a1d125d940>"
      ]
     },
     "metadata": {},
     "output_type": "display_data"
    }
   ],
   "source": [
    "plt.hist(titanic.Fare.dropna())"
   ]
  },
  {
   "cell_type": "markdown",
   "metadata": {
    "deletable": true,
    "editable": true,
    "nbpresent": {
     "id": "427683e8-04e9-49bf-b3a0-29294a4bdf71"
    }
   },
   "source": [
    "# Box plots\n",
    "We will start to look at the shape of our data using a box plot. "
   ]
  },
  {
   "cell_type": "code",
   "execution_count": null,
   "metadata": {
    "collapsed": false,
    "deletable": true,
    "editable": true,
    "nbpresent": {
     "id": "7e90bd7d-c80f-4371-95ce-63a2428d9a47"
    }
   },
   "outputs": [],
   "source": [
    "from IPython.core.display import display, HTML\n",
    "display(HTML('<iframe src=http://www.physics.csbsju.edu/stats/simple.box.defs.gif width=400 height=400></iframe>'))"
   ]
  },
  {
   "cell_type": "markdown",
   "metadata": {
    "deletable": true,
    "editable": true
   },
   "source": [
    "Lets look at the ages of the titanic passengers on a box plot. "
   ]
  },
  {
   "cell_type": "code",
   "execution_count": null,
   "metadata": {
    "collapsed": false,
    "deletable": true,
    "editable": true,
    "nbpresent": {
     "id": "ea2a7a2a-cbdc-4fb9-ab43-6ee6dd528d18"
    }
   },
   "outputs": [],
   "source": [
    "sns.boxplot(titanic.Age.dropna(), vert=True)"
   ]
  },
  {
   "cell_type": "markdown",
   "metadata": {
    "deletable": true,
    "editable": true,
    "nbpresent": {
     "id": "7975989f-bdf8-404c-947c-ddbecaac802c"
    }
   },
   "source": [
    "Why is the maximum on this chart not 80? \n",
    "\n",
    "There are outliers. Outliers are calculater as anything outside 1.5 x the Inter quartile range. \n",
    "\n",
    "IQR is the blue box. 20 - 38. IQR = 38 - 20 = 18. 18 * 1.5 = 27. \n",
    "38 + 27 = 65. \n",
    "Anything above ~65 is an outlier. "
   ]
  },
  {
   "cell_type": "markdown",
   "metadata": {
    "deletable": true,
    "editable": true
   },
   "source": [
    "Lets look at the age of passengers by their sex."
   ]
  },
  {
   "cell_type": "code",
   "execution_count": null,
   "metadata": {
    "collapsed": false,
    "deletable": true,
    "editable": true,
    "nbpresent": {
     "id": "2dab2c27-e881-4886-9050-a017efd0d03f"
    }
   },
   "outputs": [],
   "source": [
    "sns.boxplot(titanic.Age.dropna(), titanic.Sex)"
   ]
  },
  {
   "cell_type": "markdown",
   "metadata": {
    "deletable": true,
    "editable": true
   },
   "source": [
    "What we can see here is that women onboard the Titanic on average were younger than men.  "
   ]
  },
  {
   "cell_type": "markdown",
   "metadata": {
    "deletable": true,
    "editable": true
   },
   "source": [
    "### Of the survivors what were the ages of those who survived? "
   ]
  },
  {
   "cell_type": "code",
   "execution_count": null,
   "metadata": {
    "collapsed": false,
    "deletable": true,
    "editable": true
   },
   "outputs": [],
   "source": [
    "sns.boxplot(x=\"Survived\", y=\"Age\", hue=\"Sex\", data=titanic, palette=\"Set3\")"
   ]
  },
  {
   "cell_type": "markdown",
   "metadata": {
    "deletable": true,
    "editable": true
   },
   "source": [
    "How to contol boxplots:\n",
    "http://seaborn.pydata.org/generated/seaborn.boxplot.html"
   ]
  },
  {
   "cell_type": "markdown",
   "metadata": {
    "deletable": true,
    "editable": true
   },
   "source": [
    "#### How much did each class of people pay? \n",
    "Expectation = First-class will have paid more than Second or Third. \n",
    "\n",
    "We can achieve this analysis with another box plot. "
   ]
  },
  {
   "cell_type": "code",
   "execution_count": null,
   "metadata": {
    "collapsed": false,
    "deletable": true,
    "editable": true
   },
   "outputs": [],
   "source": [
    "sns.boxplot(titanic.Pclass, titanic.Fare.dropna())"
   ]
  },
  {
   "cell_type": "markdown",
   "metadata": {
    "deletable": true,
    "editable": true
   },
   "source": [
    "### In summary\n",
    "\n",
    "We looked at descriptive statistics using numpy, pandas and matpoltlib. \n",
    "\n",
    "Visualising descriptive statistics is a great way to speed up understanding."
   ]
  },
  {
   "cell_type": "code",
   "execution_count": null,
   "metadata": {
    "collapsed": true,
    "deletable": true,
    "editable": true
   },
   "outputs": [],
   "source": []
  },
  {
   "cell_type": "code",
   "execution_count": null,
   "metadata": {
    "collapsed": true,
    "deletable": true,
    "editable": true
   },
   "outputs": [],
   "source": []
  }
 ],
 "metadata": {
  "anaconda-cloud": {},
  "kernelspec": {
   "display_name": "Python [conda root]",
   "language": "python",
   "name": "conda-root-py"
  },
  "language_info": {
   "codemirror_mode": {
    "name": "ipython",
    "version": 3
   },
   "file_extension": ".py",
   "mimetype": "text/x-python",
   "name": "python",
   "nbconvert_exporter": "python",
   "pygments_lexer": "ipython3",
   "version": "3.5.2"
  },
  "nbpresent": {
   "slides": {
    "786b1953-c75c-4eae-ba9d-e9a6617d355e": {
     "id": "786b1953-c75c-4eae-ba9d-e9a6617d355e",
     "prev": "de663250-206d-4ea5-8b52-93c6c3cbebb6",
     "regions": {
      "03313a82-9deb-4419-a62e-60d768c16497": {
       "attrs": {
        "height": 0.4,
        "width": 0.8,
        "x": 0.1,
        "y": 0.5
       },
       "content": {
        "cell": "1c680db1-07ab-4f63-a80b-e0604ea08e3e",
        "part": "whole"
       },
       "id": "03313a82-9deb-4419-a62e-60d768c16497"
      },
      "08d9440f-c43d-4f80-ac79-5d97b8fc6665": {
       "attrs": {
        "height": 0.4,
        "width": 0.8,
        "x": 0.1,
        "y": 0.5
       },
       "content": {
        "cell": "d34074dc-413e-4337-89a8-0314d246f018",
        "part": "whole"
       },
       "id": "08d9440f-c43d-4f80-ac79-5d97b8fc6665"
      },
      "0c8471ac-ecdd-4c19-9b63-a0be9af188f3": {
       "attrs": {
        "height": 0.4,
        "width": 0.8,
        "x": 0.1,
        "y": 0.5
       },
       "content": {
        "cell": "a5b3d230-6683-4462-b1e2-5aed6287842a",
        "part": "whole"
       },
       "id": "0c8471ac-ecdd-4c19-9b63-a0be9af188f3"
      },
      "3bf88413-b327-48a8-83d3-354286cfb1fe": {
       "attrs": {
        "height": 0.4,
        "width": 0.8,
        "x": 0.1,
        "y": 0.5
       },
       "content": {
        "cell": "057453c7-d63e-4112-a31d-745d24e71763",
        "part": "whole"
       },
       "id": "3bf88413-b327-48a8-83d3-354286cfb1fe"
      },
      "3fac5278-ea3b-4534-94e9-6ef063220716": {
       "attrs": {
        "height": 0.4,
        "width": 0.8,
        "x": 0.1,
        "y": 0.5
       },
       "content": {
        "cell": "6b573c95-7632-4c45-ac45-f0e4fb44a71a",
        "part": "whole"
       },
       "id": "3fac5278-ea3b-4534-94e9-6ef063220716"
      },
      "436845bf-77af-4681-81f0-c20c162ac432": {
       "attrs": {
        "height": 0.4,
        "width": 0.8,
        "x": 0.1,
        "y": 0.5
       },
       "content": {
        "cell": "3f1d21e0-ee9c-474d-8e82-3380e4da073c",
        "part": "whole"
       },
       "id": "436845bf-77af-4681-81f0-c20c162ac432"
      },
      "43f52300-34b1-42e6-a91c-eac190255ac9": {
       "attrs": {
        "height": 0.4,
        "width": 0.8,
        "x": 0.1,
        "y": 0.5
       },
       "content": {
        "cell": "65d70b5b-7897-40b5-95b0-b28f29723c20",
        "part": "whole"
       },
       "id": "43f52300-34b1-42e6-a91c-eac190255ac9"
      },
      "581630fb-280f-43dd-847c-1da1c4724a3b": {
       "attrs": {
        "height": 0.4,
        "width": 0.8,
        "x": 0.1,
        "y": 0.5
       },
       "content": {
        "cell": "ef2f75a3-5698-4fd8-b82b-5a71fd3395bd",
        "part": "whole"
       },
       "id": "581630fb-280f-43dd-847c-1da1c4724a3b"
      },
      "59abb974-550b-4e27-9957-82903ffddd24": {
       "attrs": {
        "height": 0.4,
        "width": 0.8,
        "x": 0.1,
        "y": 0.5
       },
       "content": {
        "cell": "0defb792-b79c-4737-ad08-bcc396d6e843",
        "part": "whole"
       },
       "id": "59abb974-550b-4e27-9957-82903ffddd24"
      },
      "5a25ca66-a360-4d46-b564-0c428739916a": {
       "attrs": {
        "height": 0.4,
        "width": 0.8,
        "x": 0.1,
        "y": 0.5
       },
       "content": {
        "cell": "faf67923-67f1-4267-95fb-c7636d0b4ac6",
        "part": "whole"
       },
       "id": "5a25ca66-a360-4d46-b564-0c428739916a"
      },
      "5ad6fde4-88a2-4a7c-a527-5998e3dcb7f5": {
       "attrs": {
        "height": 0.4,
        "width": 0.8,
        "x": 0.1,
        "y": 0.5
       },
       "content": {
        "cell": "6c9bd736-e975-4a71-8cb1-b56cb801c2e6",
        "part": "whole"
       },
       "id": "5ad6fde4-88a2-4a7c-a527-5998e3dcb7f5"
      },
      "5dc7549a-2d31-4750-8cee-f715d8f7acad": {
       "attrs": {
        "height": 0.4,
        "width": 0.8,
        "x": 0.1,
        "y": 0.5
       },
       "content": {
        "cell": "bbe31077-139b-4feb-96ce-59481e71e5b2",
        "part": "whole"
       },
       "id": "5dc7549a-2d31-4750-8cee-f715d8f7acad"
      },
      "60a37379-d53a-4ff5-aa4b-cd9ea3935fab": {
       "attrs": {
        "height": 0.4,
        "width": 0.8,
        "x": 0.1,
        "y": 0.5
       },
       "content": {
        "cell": "dab13232-cb10-4109-a6c2-636746a916c1",
        "part": "whole"
       },
       "id": "60a37379-d53a-4ff5-aa4b-cd9ea3935fab"
      },
      "664fd045-7f7a-4980-81e7-0532ec8bf755": {
       "attrs": {
        "height": 0.4,
        "width": 0.8,
        "x": 0.1,
        "y": 0.5
       },
       "content": {
        "cell": "bd09c450-f13b-4011-afc2-d37326b7c3c1",
        "part": "whole"
       },
       "id": "664fd045-7f7a-4980-81e7-0532ec8bf755"
      },
      "691501bc-86cd-404a-8b61-c86ca73a8478": {
       "attrs": {
        "height": 0.4,
        "width": 0.8,
        "x": 0.1,
        "y": 0.5
       },
       "content": {
        "cell": "4656626b-f03c-4fd2-8b2e-d90bb1192064",
        "part": "whole"
       },
       "id": "691501bc-86cd-404a-8b61-c86ca73a8478"
      },
      "69d20576-dea3-4713-b3e5-e0644e51862a": {
       "attrs": {
        "height": 0.4,
        "width": 0.8,
        "x": 0.1,
        "y": 0.5
       },
       "content": {
        "cell": "e838e01f-fa47-49f7-acd7-cd45db6ec59a",
        "part": "whole"
       },
       "id": "69d20576-dea3-4713-b3e5-e0644e51862a"
      },
      "6bfd551f-da46-458a-a705-02ac70ca87be": {
       "attrs": {
        "height": 0.4,
        "width": 0.8,
        "x": 0.1,
        "y": 0.5
       },
       "content": {
        "cell": "4e358929-d45a-443f-b7ab-9d0139f2b4b7",
        "part": "whole"
       },
       "id": "6bfd551f-da46-458a-a705-02ac70ca87be"
      },
      "72837f2a-bc1c-4e1a-9042-623f50b46003": {
       "attrs": {
        "height": 0.8,
        "width": 0.8,
        "x": 0.1,
        "y": 0.1
       },
       "content": {
        "cell": "d931d971-5ec6-4632-8349-c369469a74d1",
        "part": "whole"
       },
       "id": "72837f2a-bc1c-4e1a-9042-623f50b46003"
      },
      "78c81e87-be93-4513-9596-74d9cd2c82c1": {
       "attrs": {
        "height": 0.4,
        "width": 0.8,
        "x": 0.1,
        "y": 0.5
       },
       "content": {
        "cell": "2564ff24-bff6-4ac0-875e-ea57c2cbd885",
        "part": "whole"
       },
       "id": "78c81e87-be93-4513-9596-74d9cd2c82c1"
      },
      "7f16b0e3-e0da-414a-8fe0-f1ee3661f9ca": {
       "attrs": {
        "height": 0.4,
        "width": 0.8,
        "x": 0.1,
        "y": 0.5
       },
       "content": {
        "cell": "226b3690-ee7c-44e3-9821-8b252456c6b8",
        "part": "whole"
       },
       "id": "7f16b0e3-e0da-414a-8fe0-f1ee3661f9ca"
      },
      "8594efc2-9e71-4a28-8098-fa9254d450ae": {
       "attrs": {
        "height": 0.4,
        "width": 0.8,
        "x": 0.1,
        "y": 0.5
       },
       "content": {
        "cell": "ea5bf3d3-ac7d-43ce-a693-230ae714f4a4",
        "part": "whole"
       },
       "id": "8594efc2-9e71-4a28-8098-fa9254d450ae"
      },
      "880863e0-6ca4-44b7-bcf5-5689ab2c1028": {
       "attrs": {
        "height": 0.4,
        "width": 0.8,
        "x": 0.1,
        "y": 0.5
       },
       "content": {
        "cell": "51d300d5-2735-4039-a20b-750b32ad39d6",
        "part": "whole"
       },
       "id": "880863e0-6ca4-44b7-bcf5-5689ab2c1028"
      },
      "99c3feb5-3946-45dc-8c90-709557a2e4c5": {
       "attrs": {
        "height": 0.4,
        "width": 0.8,
        "x": 0.1,
        "y": 0.5
       },
       "content": {
        "cell": "db34d1fa-1650-4655-91f5-ea11f7840669",
        "part": "whole"
       },
       "id": "99c3feb5-3946-45dc-8c90-709557a2e4c5"
      },
      "9c02e509-11ef-497d-a01a-8b01e01e71b6": {
       "attrs": {
        "height": 0.4,
        "width": 0.8,
        "x": 0.1,
        "y": 0.5
       },
       "content": {
        "cell": "afc0d010-6a6b-4533-afb2-45f1511feb64",
        "part": "whole"
       },
       "id": "9c02e509-11ef-497d-a01a-8b01e01e71b6"
      },
      "9c2ad3e4-c88b-4530-9db8-259391fc2fa0": {
       "attrs": {
        "height": 0.4,
        "width": 0.8,
        "x": 0.1,
        "y": 0.5
       },
       "content": {
        "cell": "2c94bddc-678c-48a7-9904-358f52bba115",
        "part": "whole"
       },
       "id": "9c2ad3e4-c88b-4530-9db8-259391fc2fa0"
      },
      "9cf75ef1-33c1-463e-9e67-3d576bae36f8": {
       "attrs": {
        "height": 0.4,
        "width": 0.8,
        "x": 0.1,
        "y": 0.5
       },
       "content": {
        "cell": "b4c7e00b-94ea-44dc-8358-69910d1d9685",
        "part": "whole"
       },
       "id": "9cf75ef1-33c1-463e-9e67-3d576bae36f8"
      },
      "a0315325-d3f0-4213-a9ac-e1282a473bef": {
       "attrs": {
        "height": 0.4,
        "width": 0.8,
        "x": 0.1,
        "y": 0.5
       },
       "content": {
        "cell": "ea2a7a2a-cbdc-4fb9-ab43-6ee6dd528d18",
        "part": "whole"
       },
       "id": "a0315325-d3f0-4213-a9ac-e1282a473bef"
      },
      "a886d866-502f-41eb-be25-ba1351e00126": {
       "attrs": {
        "height": 0.4,
        "width": 0.8,
        "x": 0.1,
        "y": 0.5
       },
       "content": {
        "cell": "447941da-2712-4bbb-af45-2358b1c07735",
        "part": "whole"
       },
       "id": "a886d866-502f-41eb-be25-ba1351e00126"
      },
      "e66eb1d3-696c-44d7-8ba1-cbd0b7dd45d6": {
       "attrs": {
        "height": 0.4,
        "width": 0.8,
        "x": 0.1,
        "y": 0.5
       },
       "content": {
        "cell": "7e90bd7d-c80f-4371-95ce-63a2428d9a47",
        "part": "whole"
       },
       "id": "e66eb1d3-696c-44d7-8ba1-cbd0b7dd45d6"
      },
      "eac07ddd-2a86-444b-ad56-2bb7e3142d86": {
       "attrs": {
        "height": 0.4,
        "width": 0.8,
        "x": 0.1,
        "y": 0.5
       },
       "content": {
        "cell": "427683e8-04e9-49bf-b3a0-29294a4bdf71",
        "part": "whole"
       },
       "id": "eac07ddd-2a86-444b-ad56-2bb7e3142d86"
      },
      "f15ff2e0-6b03-4377-b1c6-b4c6f169cd15": {
       "attrs": {
        "height": 0.4,
        "width": 0.8,
        "x": 0.1,
        "y": 0.5
       },
       "content": {
        "cell": "2dab2c27-e881-4886-9050-a017efd0d03f",
        "part": "whole"
       },
       "id": "f15ff2e0-6b03-4377-b1c6-b4c6f169cd15"
      },
      "f1d6c76f-741c-49ff-b9b3-70299762e7b5": {
       "attrs": {
        "height": 0.4,
        "width": 0.8,
        "x": 0.1,
        "y": 0.5
       },
       "content": {
        "cell": "7975989f-bdf8-404c-947c-ddbecaac802c",
        "part": "whole"
       },
       "id": "f1d6c76f-741c-49ff-b9b3-70299762e7b5"
      },
      "f79b297d-5b84-46d0-87a0-8a6dddd60693": {
       "attrs": {
        "height": 0.4,
        "width": 0.8,
        "x": 0.1,
        "y": 0.5
       },
       "content": {
        "cell": "60c54fbd-cd22-48a8-b7d2-0d1b4c4f3aa0",
        "part": "whole"
       },
       "id": "f79b297d-5b84-46d0-87a0-8a6dddd60693"
      }
     }
    },
    "de663250-206d-4ea5-8b52-93c6c3cbebb6": {
     "id": "de663250-206d-4ea5-8b52-93c6c3cbebb6",
     "prev": null,
     "regions": {
      "aab81852-28b6-49d1-8744-359ccf1f3707": {
       "attrs": {
        "height": 0.8,
        "width": 0.8,
        "x": 0.1,
        "y": 0.1
       },
       "content": {
        "cell": "af780ada-6af7-4a20-8eae-6ad265963550",
        "part": "whole"
       },
       "id": "aab81852-28b6-49d1-8744-359ccf1f3707"
      }
     }
    }
   },
   "themes": {}
  }
 },
 "nbformat": 4,
 "nbformat_minor": 1
}
