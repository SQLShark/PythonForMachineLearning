{
 "cells": [
  {
   "cell_type": "markdown",
   "metadata": {},
   "source": [
    "# SQL Server 2017 Python integration\n",
    "\n",
    "We will look at how to build an ML model and then deploy it to SQL server. \n",
    "\n",
    "This this example we will use Pandas and SKLearn. \n",
    "\n",
    "Our attempt is to predict the rental amount per month. We will do this using regression analysis. "
   ]
  },
  {
   "cell_type": "markdown",
   "metadata": {},
   "source": [
    "<b style=\"color: red\"> Terry! Have you done the intro session yet? (In SQL Server).  </b>"
   ]
  },
  {
   "cell_type": "code",
   "execution_count": 4,
   "metadata": {},
   "outputs": [],
   "source": [
    "import pandas as pd\n",
    "from sklearn.linear_model import LinearRegression\n",
    "from sklearn.metrics import mean_squared_error\n",
    "\n",
    "from revoscalepy import RxComputeContext, RxInSqlServer, RxSqlServerData\n",
    "from revoscalepy import rx_import"
   ]
  },
  {
   "cell_type": "markdown",
   "metadata": {},
   "source": [
    "Make a connection to SQL Server. \n",
    "\n",
    "Define which columns we want. This bit is important. \n",
    "SKLearn if you recall needs to work with categorical data. Numerical data. "
   ]
  },
  {
   "cell_type": "code",
   "execution_count": 41,
   "metadata": {},
   "outputs": [],
   "source": [
    "conn_str = 'Driver=SQL Server;Server=.;Database=TutorialDB;Trusted_Connection=True;'\n",
    "\n",
    "#Define the columns we wish to import\n",
    "column_info = {\n",
    "         \"Year\" : { \"type\" : \"integer\" },\n",
    "         \"Month\" : { \"type\" : \"integer\" },\n",
    "         \"Day\" : { \"type\" : \"integer\" },\n",
    "         \"RentalCount\" : { \"type\" : \"integer\" },\n",
    "         \"WeekDay\" : {\n",
    "             \"type\" : \"factor\",\n",
    "             \"levels\" : [\"1\", \"2\", \"3\", \"4\", \"5\", \"6\", \"7\"]\n",
    "         },\n",
    "         \"Holiday\" : {\n",
    "             \"type\" : \"factor\",\n",
    "             \"levels\" : [\"1\", \"0\"]\n",
    "         },\n",
    "         \"Snow\" : {\n",
    "             \"type\" : \"factor\",\n",
    "             \"levels\" : [\"1\", \"0\"]\n",
    "         }\n",
    "     }\n",
    "\n"
   ]
  },
  {
   "cell_type": "markdown",
   "metadata": {},
   "source": [
    "Get the data from SQL Server Table"
   ]
  },
  {
   "cell_type": "code",
   "execution_count": 28,
   "metadata": {},
   "outputs": [],
   "source": [
    "data_source = RxSqlServerData(table=\"dbo.rental_data\",\n",
    "                               connection_string=conn_str, column_info=column_info)\n",
    "computeContext = RxInSqlServer(\n",
    "     connection_string = conn_str,\n",
    "     num_tasks = 1,\n",
    "     auto_cleanup = False\n",
    ")"
   ]
  },
  {
   "cell_type": "code",
   "execution_count": 29,
   "metadata": {},
   "outputs": [
    {
     "data": {
      "text/plain": [
       "<revoscalepy.computecontext.RxInSqlServer.RxInSqlServer at 0x27be0fe05c0>"
      ]
     },
     "execution_count": 29,
     "metadata": {},
     "output_type": "execute_result"
    }
   ],
   "source": [
    "RxInSqlServer(connection_string=conn_str, num_tasks=1, auto_cleanup=False)"
   ]
  },
  {
   "cell_type": "markdown",
   "metadata": {},
   "source": [
    "Import data source and convert to pandas dataframe"
   ]
  },
  {
   "cell_type": "code",
   "execution_count": 30,
   "metadata": {},
   "outputs": [
    {
     "name": "stdout",
     "output_type": "stream",
     "text": [
      "Rows Read: 453, Total Rows Processed: 453, Total Chunk Time: 0.016 seconds \n",
      "Data frame:      Year  Month  Day  RentalCount WeekDay Holiday Snow FHoliday FSnow  \\\n",
      "0    2014      1   20          445       2       1    0        1     0   \n",
      "1    2014      2   13           40       5       0    0        0     0   \n",
      "2    2013      3   10          456       1       0    0        0     0   \n",
      "3    2014      3   31           38       2       0    0        0     0   \n",
      "4    2014      4   24           23       5       0    0        0     0   \n",
      "5    2015      2   11           42       4       0    0        0     0   \n",
      "6    2013      4   28          310       1       0    0        0     0   \n",
      "7    2014      3    8          240       7       0    0        0     0   \n",
      "8    2013      4    5           22       6       0    0        0     0   \n",
      "9    2015      3   29          360       1       0    0        0     0   \n",
      "10   2015      4   22           20       4       0    0        0     0   \n",
      "11   2014      4    1           36       3       0    1        0     1   \n",
      "12   2015      3    6           42       6       0    0        0     0   \n",
      "13   2014      1   26          729       1       0    1        0     1   \n",
      "14   2013      1   30           55       4       0    1        0     1   \n",
      "15   2013      3    4           39       2       0    1        0     1   \n",
      "16   2015      2   28          405       7       0    1        0     1   \n",
      "17   2015      1   12           38       2       0    1        0     1   \n",
      "18   2015      1   24          327       7       0    0        0     0   \n",
      "19   2015      4   10           34       6       0    0        0     0   \n",
      "20   2015      4   16           37       5       0    1        0     1   \n",
      "21   2014      4   18           34       6       0    1        0     1   \n",
      "22   2015      1   18          514       1       0    0        0     0   \n",
      "23   2013      4   22           39       2       0    1        0     1   \n",
      "24   2015     12   31          110       5       0    0        0     0   \n",
      "25   2013      3   21           48       5       0    1        0     1   \n",
      "26   2014     12   25          297       5       1    0        1     0   \n",
      "27   2015      4    7           40       3       0    1        0     1   \n",
      "28   2014      3   17           36       2       0    0        0     0   \n",
      "29   2015      2   22          668       1       0    1        0     1   \n",
      "..    ...    ...  ...          ...     ...     ...  ...      ...   ...   \n",
      "423  2013      1   12          507       7       0    1        0     1   \n",
      "424  2013      2    5           59       3       0    0        0     0   \n",
      "425  2014      2   25           33       3       0    0        0     0   \n",
      "426  2015      4    8           31       4       0    1        0     1   \n",
      "427  2013      4   16           21       3       0    0        0     0   \n",
      "428  2015      2   23           40       2       0    0        0     0   \n",
      "429  2014      4   10           42       5       0    1        0     1   \n",
      "430  2013     12    8          370       1       0    0        0     0   \n",
      "431  2013      2   25           33       2       0    0        0     0   \n",
      "432  2014      1   12          425       1       0    1        0     1   \n",
      "433  2013      4   10           29       4       0    0        0     0   \n",
      "434  2015      1   27           35       3       0    1        0     1   \n",
      "435  2015      2   17           49       3       0    0        0     0   \n",
      "436  2015      3   10           49       3       0    1        0     1   \n",
      "437  2015     12   18           40       6       0    1        0     1   \n",
      "438  2014      2   19           36       4       0    1        0     1   \n",
      "439  2015      4   25          312       7       0    1        0     1   \n",
      "440  2014     12   20          200       7       0    0        0     0   \n",
      "441  2015      2    3           50       3       0    1        0     1   \n",
      "442  2013      3   26           44       3       0    1        0     1   \n",
      "443  2014      1    4          608       7       0    1        0     1   \n",
      "444  2014      2    5           62       4       0    1        0     1   \n",
      "445  2013     12   14          455       7       0    1        0     1   \n",
      "446  2013     12   20           31       6       0    0        0     0   \n",
      "447  2013      1    4           63       6       0    1        0     1   \n",
      "448  2013      2   19           57       3       0    1        0     1   \n",
      "449  2015      3   18           26       4       0    0        0     0   \n",
      "450  2015      3   24           29       3       0    1        0     1   \n",
      "451  2014      3   26           50       4       0    1        0     1   \n",
      "452  2015     12    6          377       1       0    1        0     1   \n",
      "\n",
      "    FWeekDay  \n",
      "0          2  \n",
      "1          5  \n",
      "2          1  \n",
      "3          2  \n",
      "4          5  \n",
      "5          4  \n",
      "6          1  \n",
      "7          7  \n",
      "8          6  \n",
      "9          1  \n",
      "10         4  \n",
      "11         3  \n",
      "12         6  \n",
      "13         1  \n",
      "14         4  \n",
      "15         2  \n",
      "16         7  \n",
      "17         2  \n",
      "18         7  \n",
      "19         6  \n",
      "20         5  \n",
      "21         6  \n",
      "22         1  \n",
      "23         2  \n",
      "24         5  \n",
      "25         5  \n",
      "26         5  \n",
      "27         3  \n",
      "28         2  \n",
      "29         1  \n",
      "..       ...  \n",
      "423        7  \n",
      "424        3  \n",
      "425        3  \n",
      "426        4  \n",
      "427        3  \n",
      "428        2  \n",
      "429        5  \n",
      "430        1  \n",
      "431        2  \n",
      "432        1  \n",
      "433        4  \n",
      "434        3  \n",
      "435        3  \n",
      "436        3  \n",
      "437        6  \n",
      "438        4  \n",
      "439        7  \n",
      "440        7  \n",
      "441        3  \n",
      "442        3  \n",
      "443        7  \n",
      "444        4  \n",
      "445        7  \n",
      "446        6  \n",
      "447        6  \n",
      "448        3  \n",
      "449        4  \n",
      "450        3  \n",
      "451        4  \n",
      "452        1  \n",
      "\n",
      "[453 rows x 10 columns]\n"
     ]
    }
   ],
   "source": [
    "df = pd.DataFrame(rx_import(input_data = data_source))\n",
    "print(\"Data frame:\", df)"
   ]
  },
  {
   "cell_type": "markdown",
   "metadata": {},
   "source": [
    "Get all the columns from the dataframe."
   ]
  },
  {
   "cell_type": "code",
   "execution_count": 31,
   "metadata": {},
   "outputs": [],
   "source": [
    "columns = df.columns.tolist()"
   ]
  },
  {
   "cell_type": "markdown",
   "metadata": {},
   "source": [
    "Filter the columns to remove ones we don't want to use in the training"
   ]
  },
  {
   "cell_type": "code",
   "execution_count": 32,
   "metadata": {},
   "outputs": [],
   "source": [
    "columns = [c for c in columns if c not in [\"Year\"]]"
   ]
  },
  {
   "cell_type": "markdown",
   "metadata": {},
   "source": [
    "Store the variable we'll be predicting on."
   ]
  },
  {
   "cell_type": "code",
   "execution_count": 33,
   "metadata": {},
   "outputs": [],
   "source": [
    "target = \"RentalCount\""
   ]
  },
  {
   "cell_type": "markdown",
   "metadata": {},
   "source": [
    "Generate the training set.  Set random_state to be able to replicate results."
   ]
  },
  {
   "cell_type": "code",
   "execution_count": 34,
   "metadata": {},
   "outputs": [],
   "source": [
    "train = df.sample(frac=0.8, random_state=1)\n",
    "test = df.loc[~df.index.isin(train.index)]"
   ]
  },
  {
   "cell_type": "markdown",
   "metadata": {},
   "source": [
    "Lets take a look at the the shape of the training and test data."
   ]
  },
  {
   "cell_type": "code",
   "execution_count": 35,
   "metadata": {},
   "outputs": [
    {
     "name": "stdout",
     "output_type": "stream",
     "text": [
      "Training set shape: (362, 10)\n",
      "Testing set shape: (91, 10)\n"
     ]
    }
   ],
   "source": [
    "print(\"Training set shape:\", train.shape)\n",
    "print(\"Testing set shape:\", test.shape)\n"
   ]
  },
  {
   "cell_type": "markdown",
   "metadata": {},
   "source": [
    "Initialize the model class."
   ]
  },
  {
   "cell_type": "code",
   "execution_count": 36,
   "metadata": {},
   "outputs": [],
   "source": [
    "lin_model = LinearRegression()"
   ]
  },
  {
   "cell_type": "markdown",
   "metadata": {},
   "source": [
    "Fit the model to the training data."
   ]
  },
  {
   "cell_type": "code",
   "execution_count": 37,
   "metadata": {},
   "outputs": [
    {
     "data": {
      "text/plain": [
       "LinearRegression(copy_X=True, fit_intercept=True, n_jobs=1, normalize=False)"
      ]
     },
     "execution_count": 37,
     "metadata": {},
     "output_type": "execute_result"
    }
   ],
   "source": [
    "lin_model.fit(train[columns], train[target])"
   ]
  },
  {
   "cell_type": "code",
   "execution_count": 23,
   "metadata": {},
   "outputs": [
    {
     "name": "stdout",
     "output_type": "stream",
     "text": [
      "Predictions: [  40.   38.  240.   39.  514.   48.  297.   25.  507.   24.   30.   54.\n",
      "   40.   26.   30.   34.   42.  390.  336.   37.   22.   35.   55.  350.\n",
      "  252.  370.  499.   48.   37.  494.   46.   25.  312.  390.   35.   35.\n",
      "  421.   39.  176.   21.   33.  452.   34.   28.   37.  260.   49.  577.\n",
      "  312.   24.   24.  390.   34.   64.   26.   32.   33.  358.  348.   25.\n",
      "   35.   48.   39.   44.   58.   24.  350.  651.   38.  468.   26.   42.\n",
      "  310.  709.  155.   26.  648.  617.   26.  846.  729.   44.  432.   25.\n",
      "   39.   28.  325.   46.   36.   50.   63.]\n"
     ]
    }
   ],
   "source": [
    "# Generate our predictions for the test set.\n",
    "\n"
   ]
  },
  {
   "cell_type": "code",
   "execution_count": 38,
   "metadata": {},
   "outputs": [
    {
     "name": "stdout",
     "output_type": "stream",
     "text": [
      "Predictions: [  40.   38.  240.   39.  514.   48.  297.   25.  507.   24.   30.   54.\n",
      "   40.   26.   30.   34.   42.  390.  336.   37.   22.   35.   55.  350.\n",
      "  252.  370.  499.   48.   37.  494.   46.   25.  312.  390.   35.   35.\n",
      "  421.   39.  176.   21.   33.  452.   34.   28.   37.  260.   49.  577.\n",
      "  312.   24.   24.  390.   34.   64.   26.   32.   33.  358.  348.   25.\n",
      "   35.   48.   39.   44.   58.   24.  350.  651.   38.  468.   26.   42.\n",
      "  310.  709.  155.   26.  648.  617.   26.  846.  729.   44.  432.   25.\n",
      "   39.   28.  325.   46.   36.   50.   63.]\n"
     ]
    }
   ],
   "source": [
    "lin_predictions = lin_model.predict(test[columns])\n",
    "print(\"Predictions:\", lin_predictions)"
   ]
  },
  {
   "cell_type": "markdown",
   "metadata": {},
   "source": [
    "Compute error between our test predictions and the actual values.\n",
    "\n",
    "Here we are looking at the mean-squared-error MSE. This is the difference from the predicted line to the actual values, then take the mean. "
   ]
  },
  {
   "cell_type": "code",
   "execution_count": 39,
   "metadata": {},
   "outputs": [
    {
     "name": "stdout",
     "output_type": "stream",
     "text": [
      "Computed error: 8.94148696545e-27\n"
     ]
    }
   ],
   "source": [
    "lin_mse = mean_squared_error(lin_predictions, test[target])\n",
    "print(\"Computed error:\", lin_mse)"
   ]
  },
  {
   "cell_type": "markdown",
   "metadata": {},
   "source": [
    "So that was a model trained using SQL Server, however we now need to deploy it somewhere. "
   ]
  },
  {
   "cell_type": "code",
   "execution_count": null,
   "metadata": {},
   "outputs": [],
   "source": []
  }
 ],
 "metadata": {
  "kernelspec": {
   "display_name": "ML Server Python",
   "language": "python",
   "name": "mlserver-python"
  }
 },
 "nbformat": 4,
 "nbformat_minor": 2
}
